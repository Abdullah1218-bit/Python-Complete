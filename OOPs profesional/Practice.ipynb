{
 "cells": [
  {
   "cell_type": "code",
   "execution_count": null,
   "id": "4064e535",
   "metadata": {},
   "outputs": [],
   "source": [
    "a=(input('Enter you name : '))\n",
    "b=(input('Enter you age : '))"
   ]
  },
  {
   "cell_type": "code",
   "execution_count": null,
   "id": "46bbf796",
   "metadata": {},
   "outputs": [],
   "source": [
    "#Taking input from user as dictinary subject:marks (english,maths,urdu)\n",
    "c={}\n",
    "while True:\n",
    "    subject = input('Enter subject name (or type \"done\" to finish): ')\n",
    "    if subject.lower() == 'done':\n",
    "        break\n",
    "    marks = input(f'Enter marks for {subject}: ')\n",
    "    c[subject] = marks\n",
    "print(c)"
   ]
  }
 ],
 "metadata": {
  "kernelspec": {
   "display_name": "base",
   "language": "python",
   "name": "python3"
  },
  "language_info": {
   "codemirror_mode": {
    "name": "ipython",
    "version": 3
   },
   "file_extension": ".py",
   "mimetype": "text/x-python",
   "name": "python",
   "nbconvert_exporter": "python",
   "pygments_lexer": "ipython3",
   "version": "3.12.7"
  }
 },
 "nbformat": 4,
 "nbformat_minor": 5
}
